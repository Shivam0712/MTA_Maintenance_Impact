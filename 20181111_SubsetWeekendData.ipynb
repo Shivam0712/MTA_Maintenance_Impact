{
 "cells": [
  {
   "cell_type": "code",
   "execution_count": 7,
   "metadata": {},
   "outputs": [],
   "source": [
    "# Impoprt useful packages\n",
    "import pandas as pd\n",
    "from datetime import datetime"
   ]
  },
  {
   "cell_type": "code",
   "execution_count": 8,
   "metadata": {},
   "outputs": [],
   "source": [
    "# Impoprt Data\n",
    "df_main = pd.read_csv(\"2016to2018 (1).csv\")"
   ]
  },
  {
   "cell_type": "code",
   "execution_count": 4,
   "metadata": {},
   "outputs": [],
   "source": [
    "# Pull out all the dates\n",
    "df_dates=pd.DataFrame(df_main.DATE.unique())"
   ]
  },
  {
   "cell_type": "code",
   "execution_count": 14,
   "metadata": {},
   "outputs": [],
   "source": [
    "# Convert dates to datetime object \n",
    "df_dates['Date']=df_dates[0].apply(lambda x: datetime.strptime(x, '%m/%d/%Y'))"
   ]
  },
  {
   "cell_type": "code",
   "execution_count": 28,
   "metadata": {},
   "outputs": [],
   "source": [
    "# Extract weekday from datetime\n",
    "df_dates['Day']=df_dates['Date'].apply(lambda x: x.weekday())\n",
    "df_dates.columns=['OrDate','Date','Day']"
   ]
  },
  {
   "cell_type": "code",
   "execution_count": 36,
   "metadata": {},
   "outputs": [],
   "source": [
    "# Subset date and day for merging ahead \n",
    "df_dates1=df_dates[['OrDate','Day']].copy(deep=True)"
   ]
  },
  {
   "cell_type": "code",
   "execution_count": 52,
   "metadata": {},
   "outputs": [],
   "source": [
    "# merge the new dates \n",
    "df_main1=df_main.merge(df_dates1, left_on=\"DATE\",right_on=\"OrDate\")"
   ]
  },
  {
   "cell_type": "code",
   "execution_count": 54,
   "metadata": {},
   "outputs": [],
   "source": [
    "# Subset only the weekends\n",
    "df_main1 = df_main1.loc[df_main1['Day']>5,:] "
   ]
  },
  {
   "cell_type": "code",
   "execution_count": 103,
   "metadata": {},
   "outputs": [],
   "source": [
    "# Save \n",
    "df_main1.to_csv(\"20181109_WeekendTurnstile.csv\")"
   ]
  }
 ],
 "metadata": {
  "kernelspec": {
   "display_name": "ADS",
   "language": "python",
   "name": "ads"
  },
  "language_info": {
   "codemirror_mode": {
    "name": "ipython",
    "version": 3
   },
   "file_extension": ".py",
   "mimetype": "text/x-python",
   "name": "python",
   "nbconvert_exporter": "python",
   "pygments_lexer": "ipython3",
   "version": "3.5.0"
  }
 },
 "nbformat": 4,
 "nbformat_minor": 2
}
