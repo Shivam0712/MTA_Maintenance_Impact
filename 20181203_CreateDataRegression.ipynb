{
 "cells": [
  {
   "cell_type": "code",
   "execution_count": 29,
   "metadata": {},
   "outputs": [],
   "source": [
    "# import packages\n",
    "import pandas as pd\n",
    "import numpy as np\n",
    "import matplotlib.pyplot as plt\n",
    "%matplotlib inline\n",
    "import warnings\n",
    "warnings.filterwarnings('ignore')"
   ]
  },
  {
   "cell_type": "code",
   "execution_count": 30,
   "metadata": {},
   "outputs": [
    {
     "name": "stdout",
     "output_type": "stream",
     "text": [
      "20181203_ADS_Final.xlsx\r\n",
      "20181203_CreateDataRegression.ipynb\r\n",
      "20181207_Connections.csv\r\n",
      "20181207_DataForRegression.csv\r\n",
      "20181207_FinalMaintenanceAndTurnstile.csv\r\n",
      "20181213_ParameterTuningAndOutput.ipynb\r\n",
      "20181213_RandomForestShivam-Copy1.ipynb\r\n",
      "20181213_RandomForestShivam.ipynb\r\n",
      "20181214_RFFeatures.csv\r\n",
      "20181214_RFOutput.csv\r\n",
      "Final_regression-Kenji.ipynb\r\n",
      "Haoming_Regression (1).ipynb\r\n",
      "subway_line_station_figure.pdf\r\n",
      "Visualization_subwayline_subwaystation_Haoming.ipynb\r\n",
      "xgboost_improve_Haoming.ipynb\r\n",
      "Xgboost_model.ipynb\r\n"
     ]
    }
   ],
   "source": [
    "!ls"
   ]
  },
  {
   "cell_type": "code",
   "execution_count": 31,
   "metadata": {},
   "outputs": [],
   "source": [
    "# import dataframes\n",
    "df_turnstile = pd.read_excel(\"20181203_ADS_Final.xlsx\", sheet_name = \"Turnstile\", parse_dates= True)\n",
    "df_maintenance = pd.read_excel(\"20181203_ADS_Final.xlsx\", sheet_name =\"Maintenance\", parse_dates= True)\n",
    "df_dict = pd.read_csv(\"20181207_Connections.csv\")"
   ]
  },
  {
   "cell_type": "code",
   "execution_count": 32,
   "metadata": {},
   "outputs": [
    {
     "data": {
      "text/html": [
       "<div>\n",
       "<style scoped>\n",
       "    .dataframe tbody tr th:only-of-type {\n",
       "        vertical-align: middle;\n",
       "    }\n",
       "\n",
       "    .dataframe tbody tr th {\n",
       "        vertical-align: top;\n",
       "    }\n",
       "\n",
       "    .dataframe thead th {\n",
       "        text-align: right;\n",
       "    }\n",
       "</style>\n",
       "<table border=\"1\" class=\"dataframe\">\n",
       "  <thead>\n",
       "    <tr style=\"text-align: right;\">\n",
       "      <th></th>\n",
       "      <th>Stop_id</th>\n",
       "      <th>DATE1</th>\n",
       "      <th>Entries</th>\n",
       "      <th>Year</th>\n",
       "      <th>Month</th>\n",
       "      <th>Day</th>\n",
       "    </tr>\n",
       "  </thead>\n",
       "  <tbody>\n",
       "    <tr>\n",
       "      <th>0</th>\n",
       "      <td>R20</td>\n",
       "      <td>2016-08-27</td>\n",
       "      <td>73677</td>\n",
       "      <td>2016</td>\n",
       "      <td>8</td>\n",
       "      <td>27</td>\n",
       "    </tr>\n",
       "    <tr>\n",
       "      <th>1</th>\n",
       "      <td>R20</td>\n",
       "      <td>2016-08-28</td>\n",
       "      <td>56873</td>\n",
       "      <td>2016</td>\n",
       "      <td>8</td>\n",
       "      <td>28</td>\n",
       "    </tr>\n",
       "    <tr>\n",
       "      <th>2</th>\n",
       "      <td>R20</td>\n",
       "      <td>2016-09-03</td>\n",
       "      <td>77103</td>\n",
       "      <td>2016</td>\n",
       "      <td>9</td>\n",
       "      <td>3</td>\n",
       "    </tr>\n",
       "    <tr>\n",
       "      <th>3</th>\n",
       "      <td>R20</td>\n",
       "      <td>2016-09-04</td>\n",
       "      <td>57751</td>\n",
       "      <td>2016</td>\n",
       "      <td>9</td>\n",
       "      <td>4</td>\n",
       "    </tr>\n",
       "    <tr>\n",
       "      <th>4</th>\n",
       "      <td>R20</td>\n",
       "      <td>2016-09-10</td>\n",
       "      <td>93473</td>\n",
       "      <td>2016</td>\n",
       "      <td>9</td>\n",
       "      <td>10</td>\n",
       "    </tr>\n",
       "  </tbody>\n",
       "</table>\n",
       "</div>"
      ],
      "text/plain": [
       "  Stop_id      DATE1  Entries  Year  Month  Day\n",
       "0     R20 2016-08-27    73677  2016      8   27\n",
       "1     R20 2016-08-28    56873  2016      8   28\n",
       "2     R20 2016-09-03    77103  2016      9    3\n",
       "3     R20 2016-09-04    57751  2016      9    4\n",
       "4     R20 2016-09-10    93473  2016      9   10"
      ]
     },
     "execution_count": 32,
     "metadata": {},
     "output_type": "execute_result"
    }
   ],
   "source": [
    "df_turnstile.head()"
   ]
  },
  {
   "cell_type": "code",
   "execution_count": 33,
   "metadata": {},
   "outputs": [
    {
     "data": {
      "text/html": [
       "<div>\n",
       "<style scoped>\n",
       "    .dataframe tbody tr th:only-of-type {\n",
       "        vertical-align: middle;\n",
       "    }\n",
       "\n",
       "    .dataframe tbody tr th {\n",
       "        vertical-align: top;\n",
       "    }\n",
       "\n",
       "    .dataframe thead th {\n",
       "        text-align: right;\n",
       "    }\n",
       "</style>\n",
       "<table border=\"1\" class=\"dataframe\">\n",
       "  <thead>\n",
       "    <tr style=\"text-align: right;\">\n",
       "      <th></th>\n",
       "      <th>MID</th>\n",
       "      <th>Maintenance Text</th>\n",
       "      <th>From Date</th>\n",
       "      <th>To Date</th>\n",
       "      <th>Station ID</th>\n",
       "      <th>Station Name</th>\n",
       "      <th>Keywords</th>\n",
       "      <th>Dict</th>\n",
       "      <th>Entry: Gain</th>\n",
       "      <th>From Year</th>\n",
       "      <th>From Month</th>\n",
       "      <th>From Day</th>\n",
       "      <th>To Year</th>\n",
       "      <th>To Month</th>\n",
       "      <th>To Day</th>\n",
       "    </tr>\n",
       "  </thead>\n",
       "  <tbody>\n",
       "    <tr>\n",
       "      <th>0</th>\n",
       "      <td>KU-22</td>\n",
       "      <td>9:45 PM Fri to 5 AM Mon, Jul 6 - 9 Manhattan-b...</td>\n",
       "      <td>2018-07-06</td>\n",
       "      <td>2018-07-09</td>\n",
       "      <td>G08</td>\n",
       "      <td>Forest Hills - 71 Av</td>\n",
       "      <td>Track Replacement</td>\n",
       "      <td>F-B-F07-G08 -  -  ;F-B-G08-G14 -  -  ;R-Q-G09-...</td>\n",
       "      <td>1</td>\n",
       "      <td>2018</td>\n",
       "      <td>7</td>\n",
       "      <td>6</td>\n",
       "      <td>2018</td>\n",
       "      <td>7</td>\n",
       "      <td>9</td>\n",
       "    </tr>\n",
       "    <tr>\n",
       "      <th>1</th>\n",
       "      <td>KU-22</td>\n",
       "      <td>9:45 PM Fri to 5 AM Mon, Jul 6 - 9 Manhattan-b...</td>\n",
       "      <td>2018-07-06</td>\n",
       "      <td>2018-07-09</td>\n",
       "      <td>G09</td>\n",
       "      <td>67 Av</td>\n",
       "      <td>Track Replacement</td>\n",
       "      <td>R-B-G08-G09 -  -  ;R-B-G09-G10 -  -  ;R-Q-G10-...</td>\n",
       "      <td>0</td>\n",
       "      <td>2018</td>\n",
       "      <td>7</td>\n",
       "      <td>6</td>\n",
       "      <td>2018</td>\n",
       "      <td>7</td>\n",
       "      <td>9</td>\n",
       "    </tr>\n",
       "    <tr>\n",
       "      <th>2</th>\n",
       "      <td>KU-22</td>\n",
       "      <td>9:45 PM Fri to 5 AM Mon, Jul 6 - 9 Manhattan-b...</td>\n",
       "      <td>2018-07-06</td>\n",
       "      <td>2018-07-09</td>\n",
       "      <td>G10</td>\n",
       "      <td>63 Dr - Rego Park</td>\n",
       "      <td>Track Replacement</td>\n",
       "      <td>R-B-G09-G10 -  -  ;R-B-G10-G11 -  -  ;R-Q-G11-...</td>\n",
       "      <td>0</td>\n",
       "      <td>2018</td>\n",
       "      <td>7</td>\n",
       "      <td>6</td>\n",
       "      <td>2018</td>\n",
       "      <td>7</td>\n",
       "      <td>9</td>\n",
       "    </tr>\n",
       "    <tr>\n",
       "      <th>3</th>\n",
       "      <td>KU-22</td>\n",
       "      <td>9:45 PM Fri to 5 AM Mon, Jul 6 - 9 Manhattan-b...</td>\n",
       "      <td>2018-07-06</td>\n",
       "      <td>2018-07-09</td>\n",
       "      <td>G11</td>\n",
       "      <td>Woodhaven Blvd</td>\n",
       "      <td>Track Replacement</td>\n",
       "      <td>R-B-G10-G11 -  -  ;R-B-G11-G12 -  -  ;R-Q-G12-...</td>\n",
       "      <td>0</td>\n",
       "      <td>2018</td>\n",
       "      <td>7</td>\n",
       "      <td>6</td>\n",
       "      <td>2018</td>\n",
       "      <td>7</td>\n",
       "      <td>9</td>\n",
       "    </tr>\n",
       "    <tr>\n",
       "      <th>4</th>\n",
       "      <td>KU-22</td>\n",
       "      <td>9:45 PM Fri to 5 AM Mon, Jul 6 - 9 Manhattan-b...</td>\n",
       "      <td>2018-07-06</td>\n",
       "      <td>2018-07-09</td>\n",
       "      <td>G12</td>\n",
       "      <td>Grand Av - Newtown</td>\n",
       "      <td>Track Replacement</td>\n",
       "      <td>R-B-G11-G12 -  -  ;R-B-G12-G13 -  -  ;R-Q-G13-...</td>\n",
       "      <td>0</td>\n",
       "      <td>2018</td>\n",
       "      <td>7</td>\n",
       "      <td>6</td>\n",
       "      <td>2018</td>\n",
       "      <td>7</td>\n",
       "      <td>9</td>\n",
       "    </tr>\n",
       "  </tbody>\n",
       "</table>\n",
       "</div>"
      ],
      "text/plain": [
       "     MID                                   Maintenance Text  From Date  \\\n",
       "0  KU-22  9:45 PM Fri to 5 AM Mon, Jul 6 - 9 Manhattan-b... 2018-07-06   \n",
       "1  KU-22  9:45 PM Fri to 5 AM Mon, Jul 6 - 9 Manhattan-b... 2018-07-06   \n",
       "2  KU-22  9:45 PM Fri to 5 AM Mon, Jul 6 - 9 Manhattan-b... 2018-07-06   \n",
       "3  KU-22  9:45 PM Fri to 5 AM Mon, Jul 6 - 9 Manhattan-b... 2018-07-06   \n",
       "4  KU-22  9:45 PM Fri to 5 AM Mon, Jul 6 - 9 Manhattan-b... 2018-07-06   \n",
       "\n",
       "     To Date Station ID          Station Name           Keywords  \\\n",
       "0 2018-07-09        G08  Forest Hills - 71 Av  Track Replacement   \n",
       "1 2018-07-09        G09                 67 Av  Track Replacement   \n",
       "2 2018-07-09        G10     63 Dr - Rego Park  Track Replacement   \n",
       "3 2018-07-09        G11        Woodhaven Blvd  Track Replacement   \n",
       "4 2018-07-09        G12    Grand Av - Newtown  Track Replacement   \n",
       "\n",
       "                                                Dict  Entry: Gain  From Year  \\\n",
       "0  F-B-F07-G08 -  -  ;F-B-G08-G14 -  -  ;R-Q-G09-...            1       2018   \n",
       "1  R-B-G08-G09 -  -  ;R-B-G09-G10 -  -  ;R-Q-G10-...            0       2018   \n",
       "2  R-B-G09-G10 -  -  ;R-B-G10-G11 -  -  ;R-Q-G11-...            0       2018   \n",
       "3  R-B-G10-G11 -  -  ;R-B-G11-G12 -  -  ;R-Q-G12-...            0       2018   \n",
       "4  R-B-G11-G12 -  -  ;R-B-G12-G13 -  -  ;R-Q-G13-...            0       2018   \n",
       "\n",
       "   From Month  From Day  To Year  To Month  To Day  \n",
       "0           7         6     2018         7       9  \n",
       "1           7         6     2018         7       9  \n",
       "2           7         6     2018         7       9  \n",
       "3           7         6     2018         7       9  \n",
       "4           7         6     2018         7       9  "
      ]
     },
     "execution_count": 33,
     "metadata": {},
     "output_type": "execute_result"
    }
   ],
   "source": [
    "df_maintenance.head()"
   ]
  },
  {
   "cell_type": "markdown",
   "metadata": {},
   "source": [
    "#### Create a empty dataframe with all MaintenanceStations + TurnstileDates combinations"
   ]
  },
  {
   "cell_type": "code",
   "execution_count": 34,
   "metadata": {},
   "outputs": [],
   "source": [
    "dateRange1= pd.date_range(start=df_turnstile['DATE1'].min(), end=df_turnstile['DATE1'].max()-pd.DateOffset(1), freq=\"7D\")\n",
    "dateRange2= pd.date_range(start=df_turnstile['DATE1'].min()+pd.DateOffset(1), end=df_turnstile['DATE1'].max(), freq=\"7D\")\n",
    "dateRange = dateRange1.append(dateRange2)"
   ]
  },
  {
   "cell_type": "code",
   "execution_count": 35,
   "metadata": {},
   "outputs": [
    {
     "data": {
      "text/html": [
       "<div>\n",
       "<style scoped>\n",
       "    .dataframe tbody tr th:only-of-type {\n",
       "        vertical-align: middle;\n",
       "    }\n",
       "\n",
       "    .dataframe tbody tr th {\n",
       "        vertical-align: top;\n",
       "    }\n",
       "\n",
       "    .dataframe thead th {\n",
       "        text-align: right;\n",
       "    }\n",
       "</style>\n",
       "<table border=\"1\" class=\"dataframe\">\n",
       "  <thead>\n",
       "    <tr style=\"text-align: right;\">\n",
       "      <th></th>\n",
       "      <th>index</th>\n",
       "      <th>Date</th>\n",
       "      <th>Station</th>\n",
       "      <th>Weekday</th>\n",
       "    </tr>\n",
       "  </thead>\n",
       "  <tbody>\n",
       "    <tr>\n",
       "      <th>0</th>\n",
       "      <td>0</td>\n",
       "      <td>2016-08-27</td>\n",
       "      <td>G08</td>\n",
       "      <td>5</td>\n",
       "    </tr>\n",
       "    <tr>\n",
       "      <th>1</th>\n",
       "      <td>1</td>\n",
       "      <td>2016-09-03</td>\n",
       "      <td>G08</td>\n",
       "      <td>5</td>\n",
       "    </tr>\n",
       "    <tr>\n",
       "      <th>2</th>\n",
       "      <td>2</td>\n",
       "      <td>2016-09-10</td>\n",
       "      <td>G08</td>\n",
       "      <td>5</td>\n",
       "    </tr>\n",
       "    <tr>\n",
       "      <th>3</th>\n",
       "      <td>3</td>\n",
       "      <td>2016-09-17</td>\n",
       "      <td>G08</td>\n",
       "      <td>5</td>\n",
       "    </tr>\n",
       "    <tr>\n",
       "      <th>4</th>\n",
       "      <td>4</td>\n",
       "      <td>2016-09-24</td>\n",
       "      <td>G08</td>\n",
       "      <td>5</td>\n",
       "    </tr>\n",
       "  </tbody>\n",
       "</table>\n",
       "</div>"
      ],
      "text/plain": [
       "   index       Date Station  Weekday\n",
       "0      0 2016-08-27     G08        5\n",
       "1      1 2016-09-03     G08        5\n",
       "2      2 2016-09-10     G08        5\n",
       "3      3 2016-09-17     G08        5\n",
       "4      4 2016-09-24     G08        5"
      ]
     },
     "execution_count": 35,
     "metadata": {},
     "output_type": "execute_result"
    }
   ],
   "source": [
    "df_main= pd.DataFrame()\n",
    "for i in df_maintenance['Station ID'].unique():\n",
    "    df_temp= pd.DataFrame()\n",
    "    df_temp['Date'] = dateRange\n",
    "    df_temp['Station'] = i\n",
    "    df_main = df_main.append(df_temp)\n",
    "    del df_temp\n",
    "df_main['Weekday'] = df_main['Date'].dt.dayofweek\n",
    "df_main.reset_index(inplace = True)\n",
    "df_main.head()"
   ]
  },
  {
   "cell_type": "markdown",
   "metadata": {},
   "source": [
    "#### Combine df_main with maintenance and turnstile"
   ]
  },
  {
   "cell_type": "code",
   "execution_count": 36,
   "metadata": {},
   "outputs": [],
   "source": [
    "# Combine Maintenance\n",
    "def check_maintenance(row):\n",
    "    df_temp = df_maintenance.loc[(df_maintenance['Station ID'] == row['Station']) \n",
    "                                 & (df_maintenance['From Date']<= row['Date'])\n",
    "                                 & (df_maintenance['To Date']>= row['Date']),:]\n",
    "    if len(df_temp)>0:\n",
    "        return len(df_temp), sum(df_temp['Entry: Gain'])\n",
    "    else:\n",
    "        return 0, 0\n",
    "    del df_temp\n",
    "\n",
    "df_main['Maintenance'],df_main['EntryGain'] = zip(*df_main.apply( lambda row: check_maintenance(row), axis= 1))"
   ]
  },
  {
   "cell_type": "code",
   "execution_count": 37,
   "metadata": {},
   "outputs": [
    {
     "data": {
      "text/plain": [
       "1380"
      ]
     },
     "execution_count": 37,
     "metadata": {},
     "output_type": "execute_result"
    }
   ],
   "source": [
    "np.sum(df_main['Maintenance']>0)"
   ]
  },
  {
   "cell_type": "code",
   "execution_count": 38,
   "metadata": {},
   "outputs": [],
   "source": [
    "# Combine turnstile\n",
    "df_main  = df_main.merge(df_turnstile, left_on=['Station','Date'], right_on=['Stop_id','DATE1'], how='left')\n",
    "df_main.drop(['Stop_id', 'DATE1', 'Year', 'Month', 'Day'], inplace=True, axis=1)"
   ]
  },
  {
   "cell_type": "markdown",
   "metadata": {},
   "source": [
    "#### Find the residual after removing moving average and dividing by moving standard mean"
   ]
  },
  {
   "cell_type": "code",
   "execution_count": 39,
   "metadata": {},
   "outputs": [],
   "source": [
    "def movingMeanStd(row, period):\n",
    "    date_range1 = pd.date_range(end = row['Date'], periods=period, freq='7D')\n",
    "    date_range2 = pd.date_range(start = row['Date'], periods=period, freq='7D')\n",
    "    date_range = date_range1.append(date_range2)\n",
    "    df_temp = df_main.loc[(df_main['Station'] == row['Station'])& (df_main['Date'].isin(date_range)),'Entries']\n",
    "    \n",
    "    if len(df_temp) > period:\n",
    "        if df_temp.isna().sum() < period:\n",
    "            return df_temp.mean(), df_temp.std()\n",
    "        else:\n",
    "            return np.nan, np.nan\n",
    "    else:\n",
    "        return np.nan, np.nan\n",
    "    "
   ]
  },
  {
   "cell_type": "code",
   "execution_count": 40,
   "metadata": {},
   "outputs": [],
   "source": [
    "#### Find the optimal time window\n",
    "#df_score = pd.DataFrame()\n",
    "#df_tempScore = pd.DataFrame()\n",
    "#for period in [2,3,4,5,6,7,8,9,10]:\n",
    "#    df_main['Mean'], df_main['Std'] = zip(*df_main.apply(lambda row: movingMeanStd(row, period), axis=1))\n",
    "#    df_main['Score'] = (df_main['Entries'] - df_main['Mean'])/df_main['Std']\n",
    "#    df_tempScore = pd.DataFrame()\n",
    "#    df_tempScore.loc[period,'MainMedian'] = df_main.loc[(df_main['Maintenance']>0)&(df_main['EntryGain']==0), 'Score'].median()\n",
    "#    df_tempScore.loc[period,'MainMean'] = df_main.loc[(df_main['Maintenance']>0)&(df_main['EntryGain']==0), 'Score'].mean()\n",
    "#    df_tempScore.loc[period,'GainMedian'] = df_main.loc[(df_main['Maintenance']>0)&(df_main['EntryGain']==1), 'Score'].median()\n",
    "#    df_tempScore.loc[period,'GainMean'] = df_main.loc[(df_main['Maintenance']>0)&(df_main['EntryGain']==1), 'Score'].mean()\n",
    "#    df_tempScore.loc[period,'NormMedian'] = df_main.loc[(df_main['Maintenance']==0)&(df_main['EntryGain']==0), 'Score'].median()\n",
    "#    df_tempScore.loc[period,'NormMean'] = df_main.loc[(df_main['Maintenance']==0)&(df_main['EntryGain']==0), 'Score'].mean()\n",
    "#    df_score = df_score.append(df_tempScore)\n",
    "#for i in df_score.columns:\n",
    "#    plt.plot(df_score.index, df_score[i], label = i)\n",
    "#plt.legend()\n"
   ]
  },
  {
   "cell_type": "code",
   "execution_count": 41,
   "metadata": {},
   "outputs": [],
   "source": [
    "# Mean, Std and Score\n",
    "df_main['Mean'], df_main['Std'] = zip(*df_main.apply(lambda row: movingMeanStd(row, 5), axis=1))\n",
    "df_main['Score'] = (df_main['Entries'] - df_main['Mean'])"
   ]
  },
  {
   "cell_type": "code",
   "execution_count": 42,
   "metadata": {},
   "outputs": [
    {
     "data": {
      "text/html": [
       "<div>\n",
       "<style scoped>\n",
       "    .dataframe tbody tr th:only-of-type {\n",
       "        vertical-align: middle;\n",
       "    }\n",
       "\n",
       "    .dataframe tbody tr th {\n",
       "        vertical-align: top;\n",
       "    }\n",
       "\n",
       "    .dataframe thead th {\n",
       "        text-align: right;\n",
       "    }\n",
       "</style>\n",
       "<table border=\"1\" class=\"dataframe\">\n",
       "  <thead>\n",
       "    <tr style=\"text-align: right;\">\n",
       "      <th></th>\n",
       "      <th>index</th>\n",
       "      <th>Date</th>\n",
       "      <th>Station</th>\n",
       "      <th>Weekday</th>\n",
       "      <th>Maintenance</th>\n",
       "      <th>EntryGain</th>\n",
       "      <th>Entries</th>\n",
       "      <th>Mean</th>\n",
       "      <th>Std</th>\n",
       "      <th>Score</th>\n",
       "    </tr>\n",
       "  </thead>\n",
       "  <tbody>\n",
       "    <tr>\n",
       "      <th>0</th>\n",
       "      <td>0</td>\n",
       "      <td>2016-08-27</td>\n",
       "      <td>G08</td>\n",
       "      <td>5</td>\n",
       "      <td>0</td>\n",
       "      <td>0</td>\n",
       "      <td>14346.0</td>\n",
       "      <td>NaN</td>\n",
       "      <td>NaN</td>\n",
       "      <td>NaN</td>\n",
       "    </tr>\n",
       "    <tr>\n",
       "      <th>1</th>\n",
       "      <td>1</td>\n",
       "      <td>2016-09-03</td>\n",
       "      <td>G08</td>\n",
       "      <td>5</td>\n",
       "      <td>0</td>\n",
       "      <td>0</td>\n",
       "      <td>14854.0</td>\n",
       "      <td>16335.833333</td>\n",
       "      <td>1451.473102</td>\n",
       "      <td>-1481.833333</td>\n",
       "    </tr>\n",
       "    <tr>\n",
       "      <th>2</th>\n",
       "      <td>2</td>\n",
       "      <td>2016-09-10</td>\n",
       "      <td>G08</td>\n",
       "      <td>5</td>\n",
       "      <td>0</td>\n",
       "      <td>0</td>\n",
       "      <td>16677.0</td>\n",
       "      <td>16591.714286</td>\n",
       "      <td>1487.941723</td>\n",
       "      <td>85.285714</td>\n",
       "    </tr>\n",
       "    <tr>\n",
       "      <th>3</th>\n",
       "      <td>3</td>\n",
       "      <td>2016-09-17</td>\n",
       "      <td>G08</td>\n",
       "      <td>5</td>\n",
       "      <td>0</td>\n",
       "      <td>0</td>\n",
       "      <td>18175.0</td>\n",
       "      <td>16709.750000</td>\n",
       "      <td>1417.444355</td>\n",
       "      <td>1465.250000</td>\n",
       "    </tr>\n",
       "    <tr>\n",
       "      <th>4</th>\n",
       "      <td>4</td>\n",
       "      <td>2016-09-24</td>\n",
       "      <td>G08</td>\n",
       "      <td>5</td>\n",
       "      <td>0</td>\n",
       "      <td>0</td>\n",
       "      <td>17133.0</td>\n",
       "      <td>16663.111111</td>\n",
       "      <td>1333.259769</td>\n",
       "      <td>469.888889</td>\n",
       "    </tr>\n",
       "  </tbody>\n",
       "</table>\n",
       "</div>"
      ],
      "text/plain": [
       "   index       Date Station  Weekday  Maintenance  EntryGain  Entries  \\\n",
       "0      0 2016-08-27     G08        5            0          0  14346.0   \n",
       "1      1 2016-09-03     G08        5            0          0  14854.0   \n",
       "2      2 2016-09-10     G08        5            0          0  16677.0   \n",
       "3      3 2016-09-17     G08        5            0          0  18175.0   \n",
       "4      4 2016-09-24     G08        5            0          0  17133.0   \n",
       "\n",
       "           Mean          Std        Score  \n",
       "0           NaN          NaN          NaN  \n",
       "1  16335.833333  1451.473102 -1481.833333  \n",
       "2  16591.714286  1487.941723    85.285714  \n",
       "3  16709.750000  1417.444355  1465.250000  \n",
       "4  16663.111111  1333.259769   469.888889  "
      ]
     },
     "execution_count": 42,
     "metadata": {},
     "output_type": "execute_result"
    }
   ],
   "source": [
    "df_main.head()"
   ]
  },
  {
   "cell_type": "code",
   "execution_count": 43,
   "metadata": {},
   "outputs": [],
   "source": [
    "df_main['Std1'] = np.nan\n",
    "for i in df_main['Station'].unique():\n",
    "    for j in df_main['Weekday'].unique():\n",
    "        df_main.loc[(df_main['Station']==i)&(df_main['Weekday']==j),'Std1'] = df_main.loc[(df_main['Station']==i)&(df_main['Weekday']==j),'Score'].std()   "
   ]
  },
  {
   "cell_type": "code",
   "execution_count": 44,
   "metadata": {},
   "outputs": [],
   "source": [
    "df_main['Score'] = (df_main['Entries'] - df_main['Mean'])/df_main['Std1']"
   ]
  },
  {
   "cell_type": "code",
   "execution_count": 46,
   "metadata": {},
   "outputs": [],
   "source": [
    "# Remove missing value\n",
    "df_main = df_main.dropna()"
   ]
  },
  {
   "cell_type": "code",
   "execution_count": 98,
   "metadata": {},
   "outputs": [],
   "source": [
    "df_lines = pd.read_excel(\"20181203_ADS_Final.xlsx\", sheet_name =\"Dict\", parse_dates= True)\n",
    "df_lines['lines']= df_lines['DICT1'].apply(lambda x: x.split('-')[0])\n",
    "df_lines.drop(['DICT1','DICT2'], inplace=True, axis=1)\n",
    "\n",
    "# replace values\n",
    "df_lines.replace(to_replace='D17', value='P01', inplace=True)\n",
    "df_lines.replace(to_replace='R17', value='P01', inplace=True)\n",
    "df_lines.replace(to_replace='G20', value='P02', inplace=True)\n",
    "df_lines.replace(to_replace='R36', value='P02', inplace=True)\n",
    "df_lines.replace(to_replace='F23', value='P03', inplace=True)\n",
    "df_lines.replace(to_replace='R33', value='P03', inplace=True)\n",
    "df_lines.replace(to_replace='Q01', value='P04', inplace=True)\n",
    "df_lines.replace(to_replace='R23', value='P04', inplace=True)\n",
    "\n",
    "df_lines= df_lines.drop_duplicates(['stop_id','lines'])\n",
    "df_lines['Count']=1\n",
    "\n",
    "\n",
    "df_lines = pd.DataFrame(df_lines.pivot(index= 'stop_id', columns='lines', values='Count'))\n",
    "df_lines.fillna(0, inplace=True)"
   ]
  },
  {
   "cell_type": "code",
   "execution_count": 99,
   "metadata": {},
   "outputs": [],
   "source": [
    "df_main1 = df_main.merge(df_lines, left_on='Station', right_on=df_lines.index, how='left')"
   ]
  },
  {
   "cell_type": "code",
   "execution_count": 101,
   "metadata": {},
   "outputs": [],
   "source": [
    "# Save output file\n",
    "df_main1.to_csv(\"20181207_FinalMainAndTurn.csv\")"
   ]
  },
  {
   "cell_type": "markdown",
   "metadata": {},
   "source": [
    "#### *END*: Don't refer to anything after this point. Work in progress"
   ]
  },
  {
   "cell_type": "code",
   "execution_count": 49,
   "metadata": {},
   "outputs": [],
   "source": [
    "dict1 = {'Track Replacement':'Track',\n",
    " 'Station Enhancements':'Station',\n",
    " 'Signal Improvements':'Signal',\n",
    " 'Track Maintenance':'Track',\n",
    " 'Electrical Improvements':'Electrical',\n",
    " 'track replacement':'Track',\n",
    " 'track maintenance':'Track',\n",
    " 'Structural improvements':'Structural',\n",
    " 'Signal Modernization':'Signal',\n",
    " 'station enhancements':'Station',\n",
    " 'signal modernization':'Signal',\n",
    " 'track maintenance. ':'Track',\n",
    " 'electrical improvements':'Electrical',\n",
    " 'structural improvements':'Structural',\n",
    " 'signal maintenance':'Signal',\n",
    " 'Signal Maintenance':'Signal',\n",
    " 'Station Improvements':'Station',\n",
    " 'Electrical improvements':'Electrical',\n",
    " 'Structural Improvements':'Structural',\n",
    " 'Station Rehabilitation':'Station'}\n",
    "\n",
    "# Category of maintenance\n",
    "df_maintenance['Category'] = df_maintenance['Keywords'].map(dict1)"
   ]
  },
  {
   "cell_type": "code",
   "execution_count": 50,
   "metadata": {},
   "outputs": [],
   "source": [
    "# Combine Maintenance\n",
    "def maintenance_feature(row):\n",
    "    dict_temp = df_maintenance.loc[(df_maintenance['Station ID'] == row['Station']) \n",
    "                                 & (df_maintenance['From Date']<= row['Date'])\n",
    "                                 & (df_maintenance['To Date']>= row['Date']),:]\n",
    "    dict_temp['F'] = dict_temp.apply(lambda x: 'F-' in x['Dict'], axis = 1)\n",
    "    dict_temp['N'] = dict_temp.apply(lambda x: 'N-' in x['Dict'], axis = 1)\n",
    "    dict_temp['R'] = dict_temp.apply(lambda x: 'R-' in x['Dict'], axis = 1)\n",
    "    \n",
    "    dict_temp['Track'] = dict_temp.apply(lambda x: 'Track' in x['Category'], axis = 1)\n",
    "    dict_temp['StationImp'] = dict_temp.apply(lambda x: 'Station' in x['Category'], axis = 1)\n",
    "    dict_temp['Signal'] = dict_temp.apply(lambda x: 'Signal' in x['Category'], axis = 1)\n",
    "    dict_temp['Structural'] = dict_temp.apply(lambda x: 'Structural' in x['Category'], axis = 1)\n",
    "    dict_temp['Electrical'] = dict_temp.apply(lambda x: 'Electrical' in x['Category'], axis = 1)\n",
    "    \n",
    "    return dict_temp['F'].sum(),dict_temp['N'].sum(),dict_temp['R'].sum(),dict_temp['Track'].sum(),dict_temp['StationImp'].sum(),dict_temp['Signal'].sum(),dict_temp['Structural'].sum(),dict_temp['Electrical'].sum()\n",
    "\n",
    "    del dict_temp\n"
   ]
  },
  {
   "cell_type": "code",
   "execution_count": 51,
   "metadata": {},
   "outputs": [],
   "source": [
    "df_mainSubset =df_main[df_main['Maintenance']>0]"
   ]
  },
  {
   "cell_type": "code",
   "execution_count": 52,
   "metadata": {},
   "outputs": [],
   "source": [
    "df_mainSubset['F'],df_mainSubset['N'],df_mainSubset['R'],df_mainSubset['Track'],df_mainSubset['StationImp'],df_mainSubset['Signal'],df_mainSubset['Structural'],df_mainSubset['Electrical'] = zip(*df_mainSubset.apply(lambda row: maintenance_feature(row), axis=1))\n"
   ]
  },
  {
   "cell_type": "code",
   "execution_count": 53,
   "metadata": {},
   "outputs": [],
   "source": [
    "# Combine Maintenance\n",
    "def parse_dict(row):\n",
    "    dict_temp = df_maintenance.loc[(df_maintenance['Station ID'] == row['Station']) \n",
    "                                 & (df_maintenance['From Date']<= row['Date'])\n",
    "                                 & (df_maintenance['To Date']>= row['Date']),:]\n",
    "    a=[]\n",
    "    for i in range(len(dict_temp)):\n",
    "        a = a + list(dict_temp['Dict'])[i].split(';')[0:len(list(dict_temp['Dict'])[i].split(';'))-1]\n",
    "    series = pd.DataFrame({'Dict': a})\n",
    "    series['Flag'] = series.apply(lambda x: 'blank' in x['Dict'], axis =1)\n",
    "    series = series[series['Flag']==False]\n",
    "    series = series[series['Dict'].apply( lambda x: len(x)>15)]\n",
    "    series['Line'], series['Dirc'], series['From'], series['To'], series['Flag'], series['Shuttle'] = zip(*series.apply(lambda row: row['Dict'].split('-'), axis =1))\n",
    "    series.sort_values(['Flag','Shuttle'], ascending=False, inplace =True)\n",
    "    series.reset_index(inplace=True, drop=True)\n",
    "    series = series.drop_duplicates(['Line', 'Dirc', 'From', 'To'])\n",
    "    series['Flag']= series.apply(lambda x: int('1' in x['Flag']), axis=1)\n",
    "    series['Shuttle']= series.apply(lambda x: int('1' in x['Shuttle']), axis=1)\n",
    "    \n",
    "    return len(series), series['Flag'].sum(), series['Shuttle'].sum()\n",
    "    del dict_temp, series\n"
   ]
  },
  {
   "cell_type": "code",
   "execution_count": 54,
   "metadata": {},
   "outputs": [],
   "source": [
    "df_mainSubset['ConnectionDay'], df_mainSubset['Broken'], df_mainSubset['Shuttle'] = zip(*df_mainSubset.apply(lambda row: parse_dict(row), axis=1))"
   ]
  },
  {
   "cell_type": "code",
   "execution_count": 55,
   "metadata": {},
   "outputs": [],
   "source": [
    "# add original connection\n",
    "df_mainSubset =df_mainSubset.merge(df_dict, on='Station', how= 'left')"
   ]
  },
  {
   "cell_type": "code",
   "execution_count": 56,
   "metadata": {},
   "outputs": [],
   "source": [
    "# Boolean\n",
    "df_mainSubset[['F', 'N', 'R', 'Track', 'StationImp','Signal', 'Structural', 'Electrical']] = df_mainSubset[['F', 'N', 'R', 'Track', 'StationImp','Signal', 'Structural', 'Electrical']].apply(lambda x: x>0)"
   ]
  },
  {
   "cell_type": "code",
   "execution_count": 57,
   "metadata": {},
   "outputs": [],
   "source": [
    "df_mainSubset['NewConn'] = df_mainSubset.apply(lambda x: max(0,x['ConnectionDay']-x['OriginalConnection']), axis=1)"
   ]
  },
  {
   "cell_type": "code",
   "execution_count": 58,
   "metadata": {},
   "outputs": [],
   "source": [
    "df_mainSubset['NewConnRatio'] = df_mainSubset['NewConn']/df_mainSubset['OriginalConnection']"
   ]
  },
  {
   "cell_type": "code",
   "execution_count": 59,
   "metadata": {},
   "outputs": [],
   "source": [
    "df_mainSubset['LiveConn'] = df_mainSubset['OriginalConnection'] -df_mainSubset['Broken'] +df_mainSubset['NewConn']"
   ]
  },
  {
   "cell_type": "code",
   "execution_count": null,
   "metadata": {},
   "outputs": [],
   "source": [
    "df_mainSubset['LiveConnRatio'] = df_mainSubset['LiveConn']/df_mainSubset['OriginalConnection']"
   ]
  },
  {
   "cell_type": "code",
   "execution_count": 60,
   "metadata": {},
   "outputs": [],
   "source": [
    "df_mainSubset['Replacement'] = df_mainSubset.apply(lambda x: max(0,x['Broken']-x['Shuttle']), axis=1)"
   ]
  },
  {
   "cell_type": "code",
   "execution_count": 61,
   "metadata": {},
   "outputs": [],
   "source": [
    "df_mainSubset['Saturday'] =df_mainSubset['Weekday'].apply(lambda x: x==5) "
   ]
  },
  {
   "cell_type": "code",
   "execution_count": 62,
   "metadata": {},
   "outputs": [],
   "source": [
    "df_mainSubset['StdRatio'] = df_mainSubset['Std']/df_mainSubset['Mean']"
   ]
  },
  {
   "cell_type": "code",
   "execution_count": 63,
   "metadata": {},
   "outputs": [
    {
     "data": {
      "text/plain": [
       "Index(['index', 'Date', 'Station', 'Weekday', 'Maintenance', 'EntryGain',\n",
       "       'Entries', 'Mean', 'Std', 'Score', 'Std1', 'F', 'N', 'R', 'Track',\n",
       "       'StationImp', 'Signal', 'Structural', 'Electrical', 'ConnectionDay',\n",
       "       'Broken', 'Shuttle', 'OriginalConnection', 'NewConn', 'NewConnRatio',\n",
       "       'LiveConn', 'Replacement', 'Saturday', 'StdRatio'],\n",
       "      dtype='object')"
      ]
     },
     "execution_count": 63,
     "metadata": {},
     "output_type": "execute_result"
    }
   ],
   "source": [
    "df_mainSubset.columns\n"
   ]
  },
  {
   "cell_type": "code",
   "execution_count": 64,
   "metadata": {},
   "outputs": [],
   "source": [
    "df_mainSubset.to_csv(\"20181214_FinalMaintenance.csv\")"
   ]
  },
  {
   "cell_type": "code",
   "execution_count": 50,
   "metadata": {},
   "outputs": [],
   "source": [
    "df_final = df_mainSubset[['NewConn', 'NewConnRatio', 'LiveConn',\n",
    "       'LiveConnRatio', 'Replacement', 'Saturday','Maintenance', 'EntryGain','F', 'N', 'R', 'Track', 'StationImp',\n",
    "       'Signal', 'Structural', 'Electrical','ConnectionDay', 'Broken',\n",
    "       'Shuttle', 'OriginalConnection','StdRatio','Score']]"
   ]
  },
  {
   "cell_type": "code",
   "execution_count": 51,
   "metadata": {},
   "outputs": [],
   "source": [
    "df_final.to_csv(\"20181207_DataForRegression.csv\", index=False)"
   ]
  },
  {
   "cell_type": "code",
   "execution_count": null,
   "metadata": {},
   "outputs": [],
   "source": [
    "from sklearn.metrics import r2_score\n",
    "df_temp = df_main.groupby(['Maintenance','EntryGain'], as_index = False)['Score'].mean()\n",
    "df_eval = df_main.merge(df_temp, on= ['Maintenance', 'EntryGain'], how ='left')\n",
    "r2_score(df_eval['Score_x'], df_eval['Score_y'])"
   ]
  },
  {
   "cell_type": "code",
   "execution_count": null,
   "metadata": {},
   "outputs": [],
   "source": [
    "r2_score(df_eval.loc[(df_eval['Maintenance']==0)&(df_eval['EntryGain']==0),'Score_x'],df_eval.loc[(df_eval['Maintenance']==0)&(df_eval['EntryGain']==0),'Score_y'])"
   ]
  },
  {
   "cell_type": "code",
   "execution_count": null,
   "metadata": {},
   "outputs": [],
   "source": [
    "error = df_eval['Score_x'] - df_eval['Score_y']\n",
    "norm = df_eval['Score_y'] - np.mean(df_eval['Score_y'])\n",
    "1 - error.dot(error)/norm.dot(norm)"
   ]
  },
  {
   "cell_type": "code",
   "execution_count": null,
   "metadata": {},
   "outputs": [],
   "source": [
    "plt.hist(df_main.loc[(df_main['Maintenance']>0)&(df_main['EntryGain']==0),'Score'])"
   ]
  },
  {
   "cell_type": "code",
   "execution_count": null,
   "metadata": {},
   "outputs": [],
   "source": [
    "plt.hist(df_main.loc[(df_main['Maintenance']>0),'Score'])"
   ]
  },
  {
   "cell_type": "code",
   "execution_count": null,
   "metadata": {},
   "outputs": [],
   "source": [
    "plt.hist(df_main.loc[df_main['Maintenance']==0,'Score'])"
   ]
  },
  {
   "cell_type": "code",
   "execution_count": null,
   "metadata": {},
   "outputs": [],
   "source": [
    "df_main.loc[(df_main['Maintenance']>0)&(df_main['EntryGain']==0),'Score'].describe(),\"/n\" ,df_main.loc[df_main['Maintenance']==0,'Score'].describe()"
   ]
  }
 ],
 "metadata": {
  "kernelspec": {
   "display_name": "ADS",
   "language": "python",
   "name": "ads"
  },
  "language_info": {
   "codemirror_mode": {
    "name": "ipython",
    "version": 3
   },
   "file_extension": ".py",
   "mimetype": "text/x-python",
   "name": "python",
   "nbconvert_exporter": "python",
   "pygments_lexer": "ipython3",
   "version": "3.5.0"
  }
 },
 "nbformat": 4,
 "nbformat_minor": 2
}
