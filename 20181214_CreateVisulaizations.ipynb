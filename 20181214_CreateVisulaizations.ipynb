{
 "cells": [
  {
   "cell_type": "code",
   "execution_count": 1,
   "metadata": {},
   "outputs": [],
   "source": [
    "# import packages\n",
    "import pandas as pd\n",
    "import numpy as np\n",
    "import matplotlib.pyplot as plt\n",
    "%matplotlib inline\n",
    "import warnings\n",
    "warnings.filterwarnings('ignore')\n",
    "from statsmodels.tsa.stattools import adfuller\n",
    "plt.rcParams['font.size'] = 15"
   ]
  },
  {
   "cell_type": "code",
   "execution_count": 87,
   "metadata": {},
   "outputs": [
    {
     "data": {
      "text/html": [
       "<div>\n",
       "<style scoped>\n",
       "    .dataframe tbody tr th:only-of-type {\n",
       "        vertical-align: middle;\n",
       "    }\n",
       "\n",
       "    .dataframe tbody tr th {\n",
       "        vertical-align: top;\n",
       "    }\n",
       "\n",
       "    .dataframe thead th {\n",
       "        text-align: right;\n",
       "    }\n",
       "</style>\n",
       "<table border=\"1\" class=\"dataframe\">\n",
       "  <thead>\n",
       "    <tr style=\"text-align: right;\">\n",
       "      <th></th>\n",
       "      <th>Unnamed: 0</th>\n",
       "      <th>index</th>\n",
       "      <th>Date</th>\n",
       "      <th>Station</th>\n",
       "      <th>Weekday</th>\n",
       "      <th>Maintenance</th>\n",
       "      <th>EntryGain</th>\n",
       "      <th>Entries</th>\n",
       "      <th>Mean</th>\n",
       "      <th>Std</th>\n",
       "      <th>Score</th>\n",
       "      <th>Std1</th>\n",
       "    </tr>\n",
       "  </thead>\n",
       "  <tbody>\n",
       "    <tr>\n",
       "      <th>0</th>\n",
       "      <td>0</td>\n",
       "      <td>0</td>\n",
       "      <td>2016-08-27</td>\n",
       "      <td>G08</td>\n",
       "      <td>5</td>\n",
       "      <td>0</td>\n",
       "      <td>0</td>\n",
       "      <td>14346.0</td>\n",
       "      <td>NaN</td>\n",
       "      <td>NaN</td>\n",
       "      <td>NaN</td>\n",
       "      <td>3499.426694</td>\n",
       "    </tr>\n",
       "    <tr>\n",
       "      <th>1</th>\n",
       "      <td>1</td>\n",
       "      <td>1</td>\n",
       "      <td>2016-09-03</td>\n",
       "      <td>G08</td>\n",
       "      <td>5</td>\n",
       "      <td>0</td>\n",
       "      <td>0</td>\n",
       "      <td>14854.0</td>\n",
       "      <td>16335.833333</td>\n",
       "      <td>1451.473102</td>\n",
       "      <td>-0.423450</td>\n",
       "      <td>3499.426694</td>\n",
       "    </tr>\n",
       "    <tr>\n",
       "      <th>2</th>\n",
       "      <td>2</td>\n",
       "      <td>2</td>\n",
       "      <td>2016-09-10</td>\n",
       "      <td>G08</td>\n",
       "      <td>5</td>\n",
       "      <td>0</td>\n",
       "      <td>0</td>\n",
       "      <td>16677.0</td>\n",
       "      <td>16591.714286</td>\n",
       "      <td>1487.941723</td>\n",
       "      <td>0.024371</td>\n",
       "      <td>3499.426694</td>\n",
       "    </tr>\n",
       "    <tr>\n",
       "      <th>3</th>\n",
       "      <td>3</td>\n",
       "      <td>3</td>\n",
       "      <td>2016-09-17</td>\n",
       "      <td>G08</td>\n",
       "      <td>5</td>\n",
       "      <td>0</td>\n",
       "      <td>0</td>\n",
       "      <td>18175.0</td>\n",
       "      <td>16709.750000</td>\n",
       "      <td>1417.444355</td>\n",
       "      <td>0.418711</td>\n",
       "      <td>3499.426694</td>\n",
       "    </tr>\n",
       "    <tr>\n",
       "      <th>4</th>\n",
       "      <td>4</td>\n",
       "      <td>4</td>\n",
       "      <td>2016-09-24</td>\n",
       "      <td>G08</td>\n",
       "      <td>5</td>\n",
       "      <td>0</td>\n",
       "      <td>0</td>\n",
       "      <td>17133.0</td>\n",
       "      <td>16663.111111</td>\n",
       "      <td>1333.259769</td>\n",
       "      <td>0.134276</td>\n",
       "      <td>3499.426694</td>\n",
       "    </tr>\n",
       "  </tbody>\n",
       "</table>\n",
       "</div>"
      ],
      "text/plain": [
       "   Unnamed: 0  index        Date Station  Weekday  Maintenance  EntryGain  \\\n",
       "0           0      0  2016-08-27     G08        5            0          0   \n",
       "1           1      1  2016-09-03     G08        5            0          0   \n",
       "2           2      2  2016-09-10     G08        5            0          0   \n",
       "3           3      3  2016-09-17     G08        5            0          0   \n",
       "4           4      4  2016-09-24     G08        5            0          0   \n",
       "\n",
       "   Entries          Mean          Std     Score         Std1  \n",
       "0  14346.0           NaN          NaN       NaN  3499.426694  \n",
       "1  14854.0  16335.833333  1451.473102 -0.423450  3499.426694  \n",
       "2  16677.0  16591.714286  1487.941723  0.024371  3499.426694  \n",
       "3  18175.0  16709.750000  1417.444355  0.418711  3499.426694  \n",
       "4  17133.0  16663.111111  1333.259769  0.134276  3499.426694  "
      ]
     },
     "execution_count": 87,
     "metadata": {},
     "output_type": "execute_result"
    }
   ],
   "source": [
    "df_main = pd.read_csv('20181214_FinalMainAndTurn.csv')\n",
    "df_main.head()"
   ]
  },
  {
   "cell_type": "markdown",
   "metadata": {},
   "source": [
    "### Plot AD Fuller Test Statistics"
   ]
  },
  {
   "cell_type": "code",
   "execution_count": null,
   "metadata": {},
   "outputs": [],
   "source": [
    "df_entries = pd.DataFrame()\n",
    "df_score = pd.DataFrame()\n",
    "for i in df_main['Station'].unique():\n",
    "    for j in df_main['Weekday'].unique():\n",
    "        df_temp = df_main.loc[(df_main['Station']==i) & (df_main['Weekday']==j), ['Date','Score'] ]\n",
    "        df_temp.index = df_temp['Date']\n",
    "        df_temp.drop(['Date'], axis=1, inplace=True)\n",
    "        df_temp.dropna(inplace=True)\n",
    "        try:\n",
    "            dftest = adfuller(df_temp['Score'], autolag='AIC')\n",
    "            dfoutput = pd.DataFrame( columns =['Test Statistic','p-value','#Lags Used','Number of Observations Used'])\n",
    "            dfoutput.loc[0,:]=dftest[0:4]\n",
    "            for key,value in dftest[4].items():\n",
    "                dfoutput['Critical Value (%s)'%key] = value\n",
    "            dfoutput['Station'] = i\n",
    "            dfoutput['Weekday'] = j\n",
    "            df_score = df_score.append(dfoutput)\n",
    "            del df_temp\n",
    "            del dfoutput\n",
    "        except:\n",
    "            print(\"Error: \", i, \" \",j,\" Score\")\n",
    "            \n",
    "        df_temp = df_main.loc[(df_main['Station']==i) & (df_main['Weekday']==j), ['Date','Entries'] ]\n",
    "        df_temp.index = df_temp['Date']\n",
    "        df_temp.drop(['Date'], axis=1, inplace=True)\n",
    "        df_temp.dropna(inplace=True)\n",
    "        try:\n",
    "            dftest = adfuller(df_temp['Entries'], autolag='AIC')\n",
    "            dfoutput = pd.DataFrame( columns =['Test Statistic','p-value','#Lags Used','Number of Observations Used'])\n",
    "            dfoutput.loc[0,:]=dftest[0:4]\n",
    "            for key,value in dftest[4].items():\n",
    "                dfoutput['Critical Value (%s)'%key] = value\n",
    "            dfoutput['Station'] = i\n",
    "            dfoutput['Weekday'] = j\n",
    "            df_entries = df_entries.append(dfoutput)\n",
    "            del df_temp\n",
    "            del dfoutput\n",
    "        except:\n",
    "            print(\"Error: \", i, \" \",j,\" Entries\")\n",
    "\n",
    "        "
   ]
  },
  {
   "cell_type": "code",
   "execution_count": null,
   "metadata": {},
   "outputs": [],
   "source": [
    "fig = plt.subplots(figsize=(16,5))\n",
    "\n",
    "plt.subplot(1,2,1)\n",
    "plt.hist(df_entries['Test Statistic'],bins=20, edgecolor='blue', color='white', linewidth=2.0)\n",
    "colors = ['green','yellow','red']\n",
    "a=0\n",
    "for i in ['Critical Value (1%)','Critical Value (5%)', 'Critical Value (10%)']:\n",
    "    plt.axvline(x=df_entries[i].mean(), label =i, color =colors[a], linewidth=3.0 )\n",
    "    a=a+1\n",
    "plt.legend(fontsize=12)\n",
    "plt.title(\"Before Time Series Treatment\", fontsize=15)\n",
    "plt.xlabel(\"AD Fuller Test Statistics\", fontsize=14)\n",
    "\n",
    "plt.subplot(1,2,2)\n",
    "plt.hist(df_score['Test Statistic'],bins=20, edgecolor='blue', color='white', linewidth=2.0)\n",
    "a=0\n",
    "for i in ['Critical Value (1%)','Critical Value (5%)', 'Critical Value (10%)']:\n",
    "    plt.axvline(x=df_score[i].mean(), label =i, color =colors[a] , linewidth=3.0 )\n",
    "    a=a+1\n",
    "plt.legend(fontsize=12)\n",
    "plt.title(\"After Time Series Treatment\", fontsize=15)\n",
    "plt.xlabel(\"AD Fuller Test Statistics\", fontsize=14)\n",
    "\n",
    "plt.savefig(\"ADF Test.png\")"
   ]
  },
  {
   "cell_type": "code",
   "execution_count": 88,
   "metadata": {},
   "outputs": [
    {
     "data": {
      "text/plain": [
       "(0.05023715205163775,\n",
       " 0.6612517996654769,\n",
       " -1.7349385583688051,\n",
       " 1.4481387280119096)"
      ]
     },
     "execution_count": 88,
     "metadata": {},
     "output_type": "execute_result"
    }
   ],
   "source": [
    "myarray0 = df_main.loc[df_main['Maintenance']==0,'Score'].dropna()\n",
    "myarray0 = myarray0[(myarray0 > myarray0.quantile(.05))&(myarray0 < myarray0.quantile(.95))]\n",
    "np.mean(myarray0), np.std(myarray0), np.min(myarray0), np.max(myarray0)"
   ]
  },
  {
   "cell_type": "code",
   "execution_count": 96,
   "metadata": {},
   "outputs": [
    {
     "data": {
      "text/plain": [
       "count    1101.000000\n",
       "mean       -0.542577\n",
       "std         0.865789\n",
       "min        -2.373871\n",
       "25%        -1.243665\n",
       "50%        -0.421273\n",
       "75%         0.145492\n",
       "max         1.134242\n",
       "Name: Score, dtype: float64"
      ]
     },
     "execution_count": 96,
     "metadata": {},
     "output_type": "execute_result"
    }
   ],
   "source": [
    "myarray.describe()"
   ]
  },
  {
   "cell_type": "code",
   "execution_count": 95,
   "metadata": {},
   "outputs": [
    {
     "data": {
      "text/plain": [
       "(-0.5425770812869731,\n",
       " 0.8653959481068094,\n",
       " -2.3738708760142844,\n",
       " 1.1342418250493531)"
      ]
     },
     "execution_count": 95,
     "metadata": {},
     "output_type": "execute_result"
    }
   ],
   "source": [
    "myarray = df_main.loc[df_main['Maintenance']>0,'Score'].dropna()\n",
    "myarray = myarray[(myarray > myarray.quantile(.05))&(myarray < myarray.quantile(.95))]\n",
    "np.mean(myarray), np.std(myarray), np.min(myarray), np.max(myarray)"
   ]
  },
  {
   "cell_type": "code",
   "execution_count": 91,
   "metadata": {},
   "outputs": [
    {
     "data": {
      "text/plain": [
       "(-0.7122170085309956,\n",
       " 0.8734743626497613,\n",
       " -2.5243065644482594,\n",
       " 0.84723399622101203)"
      ]
     },
     "execution_count": 91,
     "metadata": {},
     "output_type": "execute_result"
    }
   ],
   "source": [
    "myarray1 = df_main.loc[(df_main['Maintenance']>0) & (df_main['EntryGain']==0),'Score'].dropna()\n",
    "myarray1 = myarray1[(myarray1 > myarray1.quantile(.05))&(myarray1 < myarray1.quantile(.95))]\n",
    "np.mean(myarray1), np.std(myarray1), np.min(myarray1), np.max(myarray1)"
   ]
  },
  {
   "cell_type": "code",
   "execution_count": 92,
   "metadata": {},
   "outputs": [
    {
     "data": {
      "text/plain": [
       "(0.07290100510875712,\n",
       " 0.6445589890838641,\n",
       " -1.3080770048389208,\n",
       " 1.5346550448475984)"
      ]
     },
     "execution_count": 92,
     "metadata": {},
     "output_type": "execute_result"
    }
   ],
   "source": [
    "myarray2 = df_main.loc[(df_main['Maintenance']>0) & (df_main['EntryGain']>0),'Score'].dropna()\n",
    "myarray2 = myarray2[(myarray2 > myarray2.quantile(.05))&(myarray2 < myarray2.quantile(.95))]\n",
    "np.mean(myarray2), np.std(myarray2), np.min(myarray2), np.max(myarray2)"
   ]
  },
  {
   "cell_type": "code",
   "execution_count": null,
   "metadata": {},
   "outputs": [],
   "source": [
    "from scipy.stats import ttest_ind"
   ]
  },
  {
   "cell_type": "code",
   "execution_count": null,
   "metadata": {},
   "outputs": [],
   "source": [
    "ttest_ind(myarray0, myarray2, axis=0, equal_var=True)"
   ]
  },
  {
   "cell_type": "markdown",
   "metadata": {},
   "source": [
    "### Plot Hist Maintenance and Normal"
   ]
  },
  {
   "cell_type": "code",
   "execution_count": null,
   "metadata": {},
   "outputs": [],
   "source": [
    "plt.subplots(figsize= (14,5))\n",
    "\n",
    "plt.subplot(1,2,1)\n",
    "myarray = df_main.loc[df_main['Maintenance']==0,'Score'].dropna()\n",
    "myarray = myarray[(myarray > myarray.quantile(.05))&(myarray < myarray.quantile(.95))]\n",
    "plt.hist(myarray, color='blue', bins=20, edgecolor='black', linewidth=1.0)\n",
    "plt.axvline(x=myarray.quantile(q= 0.25), linewidth=3.0, label ='25%', color ='red', linestyle ='--') \n",
    "plt.axvline(x=np.mean(myarray), linewidth=3.0, label ='Mean', color = 'red' )\n",
    "plt.axvline(x=myarray.quantile(q= 0.75), linewidth=3.0, label ='75%', color ='red', linestyle ='--')\n",
    "plt.xlabel('Rolling window standardized z-score of Station Entries')\n",
    "plt.title('Station Dates without Maintenance')\n",
    "plt.legend()\n",
    "\n",
    "plt.subplot(1,2,2)\n",
    "myarray = df_main.loc[df_main['Maintenance']>0,'Score'].dropna()\n",
    "myarray = myarray[(myarray > myarray.quantile(.05))&(myarray < myarray.quantile(.95))]\n",
    "plt.hist(myarray, color='red', bins=20, edgecolor='black', linewidth=1.0)\n",
    "plt.axvline(x=myarray.quantile(q= 0.25), linewidth=3.0, label ='25%', color ='Blue', linestyle ='--') \n",
    "plt.axvline(x=np.mean(myarray), linewidth=3.0, label ='Mean', color = 'Blue' )\n",
    "plt.axvline(x=myarray.quantile(q= 0.75), linewidth=3.0, label ='75%', color ='Blue', linestyle ='--')\n",
    "plt.xlabel('Rolling window standardized z-score of Station Entries')\n",
    "plt.title('Station Dates with Maintenance')\n",
    "plt.legend()\n",
    "\n",
    "plt.savefig('MaintenanceNormal.png')"
   ]
  },
  {
   "cell_type": "markdown",
   "metadata": {},
   "source": [
    "### Plot Hist Maintenance, Normal and Entry Gain"
   ]
  },
  {
   "cell_type": "code",
   "execution_count": null,
   "metadata": {},
   "outputs": [],
   "source": [
    "plt.subplots(figsize= (20,5))\n",
    "\n",
    "plt.subplot(1,3,1)\n",
    "myarray = df_main.loc[(df_main['Maintenance']>0) & (df_main['EntryGain']==0),'Score'].dropna()\n",
    "myarray = myarray[(myarray > myarray.quantile(.05))&(myarray < myarray.quantile(.95))]\n",
    "plt.hist(myarray, color='red', bins=20, edgecolor='black', linewidth=1.0)\n",
    "plt.axvline(x=myarray.quantile(q= 0.25), linewidth=3.0, label ='25%', color ='lime', linestyle ='--') \n",
    "plt.axvline(x=np.mean(myarray), linewidth=3.0, label ='Mean', color = 'lime' )\n",
    "plt.axvline(x=myarray.quantile(q= 0.75), linewidth=3.0, label ='75%', color ='lime', linestyle ='--')\n",
    "plt.title('Station Dates with Maintenance')\n",
    "plt.yticks([])\n",
    "plt.legend()\n",
    "\n",
    "plt.subplot(1,3,2)\n",
    "myarray = df_main.loc[df_main['Maintenance']==0,'Score'].dropna()\n",
    "myarray = myarray[(myarray > myarray.quantile(.05))&(myarray < myarray.quantile(.95))]\n",
    "plt.hist(myarray, color='royalblue', bins=20, edgecolor='black', linewidth=1.0)\n",
    "plt.axvline(x=myarray.quantile(q= 0.25), linewidth=3.0, label ='25%', color ='orange', linestyle ='--') \n",
    "plt.axvline(x=np.mean(myarray), linewidth=3.0, label ='Mean', color = 'orange' )\n",
    "plt.axvline(x=myarray.quantile(q= 0.75), linewidth=3.0, label ='75%', color ='orange', linestyle ='--')\n",
    "plt.xlabel('Rolling window standardized z-score of Station Entries')\n",
    "plt.title('Station Dates without Maintenance')\n",
    "plt.yticks([])\n",
    "plt.legend()\n",
    "\n",
    "plt.subplot(1,3,3)\n",
    "myarray = df_main.loc[(df_main['Maintenance']>0) & (df_main['EntryGain']>0),'Score'].dropna()\n",
    "myarray = myarray[(myarray > myarray.quantile(.05))&(myarray < myarray.quantile(.95))]\n",
    "plt.hist(myarray, color='lime', bins=20, edgecolor='black', linewidth=1.0)\n",
    "plt.axvline(x=myarray.quantile(q= 0.25), linewidth=3.0, label ='25%', color ='red', linestyle ='--') \n",
    "plt.axvline(x=np.mean(myarray), linewidth=3.0, label ='Mean', color = 'red' )\n",
    "plt.axvline(x=myarray.quantile(q= 0.75), linewidth=3.0, label ='75%', color ='red', linestyle ='--')\n",
    "plt.title('Station Dates with Maintenance and EntryGain')\n",
    "plt.yticks([])\n",
    "plt.legend()\n",
    "plt.savefig('MaintenanceNormalEntryGain.png')"
   ]
  },
  {
   "cell_type": "markdown",
   "metadata": {},
   "source": [
    "# Plot of Results"
   ]
  },
  {
   "cell_type": "code",
   "execution_count": 7,
   "metadata": {},
   "outputs": [
    {
     "data": {
      "text/html": [
       "<div>\n",
       "<style scoped>\n",
       "    .dataframe tbody tr th:only-of-type {\n",
       "        vertical-align: middle;\n",
       "    }\n",
       "\n",
       "    .dataframe tbody tr th {\n",
       "        vertical-align: top;\n",
       "    }\n",
       "\n",
       "    .dataframe thead th {\n",
       "        text-align: right;\n",
       "    }\n",
       "</style>\n",
       "<table border=\"1\" class=\"dataframe\">\n",
       "  <thead>\n",
       "    <tr style=\"text-align: right;\">\n",
       "      <th></th>\n",
       "      <th>Unnamed: 0</th>\n",
       "      <th>Type</th>\n",
       "      <th>Loss</th>\n",
       "      <th>% of Total Loss</th>\n",
       "    </tr>\n",
       "  </thead>\n",
       "  <tbody>\n",
       "    <tr>\n",
       "      <th>2</th>\n",
       "      <td>0</td>\n",
       "      <td>Signal</td>\n",
       "      <td>-648585.374603</td>\n",
       "      <td>50.900543</td>\n",
       "    </tr>\n",
       "    <tr>\n",
       "      <th>0</th>\n",
       "      <td>0</td>\n",
       "      <td>Track</td>\n",
       "      <td>-407285.345238</td>\n",
       "      <td>31.963479</td>\n",
       "    </tr>\n",
       "    <tr>\n",
       "      <th>4</th>\n",
       "      <td>0</td>\n",
       "      <td>Electrical</td>\n",
       "      <td>-88665.222222</td>\n",
       "      <td>6.958387</td>\n",
       "    </tr>\n",
       "    <tr>\n",
       "      <th>1</th>\n",
       "      <td>0</td>\n",
       "      <td>StationImp</td>\n",
       "      <td>-65586.396825</td>\n",
       "      <td>5.147176</td>\n",
       "    </tr>\n",
       "    <tr>\n",
       "      <th>3</th>\n",
       "      <td>0</td>\n",
       "      <td>Structural</td>\n",
       "      <td>-64098.597222</td>\n",
       "      <td>5.030415</td>\n",
       "    </tr>\n",
       "  </tbody>\n",
       "</table>\n",
       "</div>"
      ],
      "text/plain": [
       "   Unnamed: 0        Type           Loss  % of Total Loss\n",
       "2           0      Signal -648585.374603        50.900543\n",
       "0           0       Track -407285.345238        31.963479\n",
       "4           0  Electrical  -88665.222222         6.958387\n",
       "1           0  StationImp  -65586.396825         5.147176\n",
       "3           0  Structural  -64098.597222         5.030415"
      ]
     },
     "execution_count": 7,
     "metadata": {},
     "output_type": "execute_result"
    }
   ],
   "source": [
    "df_typeLoss = pd.read_csv(\"Results2.csv\")\n",
    "df_typeLoss = df_typeLoss.sort_values(by = '% of Total Loss', ascending=False)\n",
    "df_typeLoss"
   ]
  },
  {
   "cell_type": "code",
   "execution_count": 84,
   "metadata": {},
   "outputs": [
    {
     "name": "stderr",
     "output_type": "stream",
     "text": [
      "/usr/local/Anaconda3-5.0.0-Linux-x86_64/envs/ADS/lib/python3.5/site-packages/matplotlib/axes/_axes.py:545: UserWarning: No labelled objects found. Use label='...' kwarg on individual plots.\n",
      "  warnings.warn(\"No labelled objects found. \"\n"
     ]
    },
    {
     "data": {
      "image/png": "[encoded data removed]",
      "text/plain": [
       "<matplotlib.figure.Figure at 0x7fb897b36550>"
      ]
     },
     "metadata": {
      "needs_background": "light"
     },
     "output_type": "display_data"
    }
   ],
   "source": [
    "fig, ax = plt.subplots(figsize=(10,5))\n",
    "lis =  np.arange(len(df_typeLoss))\n",
    "ax.barh(lis, np.abs(df_typeLoss['% of Total Loss']), color= 'red',edgecolor='black', linewidth=2.0)\n",
    "ax.set_yticks(lis)\n",
    "ax.set_yticklabels(list(df_typeLoss['Type']), fontsize =15)\n",
    "ax.invert_yaxis()\n",
    "plt.ylabel('Category of Maintenance', fontsize =15)\n",
    "plt.xlabel('% of Final Loss in Ridership', fontsize =15)\n",
    "plt.title('Loss in Ridership on F N and R Line for past 11 Months by Category of Maintenance', fontsize =15)\n",
    "plt.legend(fontsize =15)\n",
    "plt.savefig(\"CategoricalLoss.png\")"
   ]
  },
  {
   "cell_type": "code",
   "execution_count": 22,
   "metadata": {},
   "outputs": [
    {
     "data": {
      "text/html": [
       "<div>\n",
       "<style scoped>\n",
       "    .dataframe tbody tr th:only-of-type {\n",
       "        vertical-align: middle;\n",
       "    }\n",
       "\n",
       "    .dataframe tbody tr th {\n",
       "        vertical-align: top;\n",
       "    }\n",
       "\n",
       "    .dataframe thead th {\n",
       "        text-align: right;\n",
       "    }\n",
       "</style>\n",
       "<table border=\"1\" class=\"dataframe\">\n",
       "  <thead>\n",
       "    <tr style=\"text-align: right;\">\n",
       "      <th></th>\n",
       "      <th>Unnamed: 0</th>\n",
       "      <th>Line</th>\n",
       "      <th>Type</th>\n",
       "      <th>Loss</th>\n",
       "      <th>% of Line</th>\n",
       "      <th>% of Type</th>\n",
       "    </tr>\n",
       "  </thead>\n",
       "  <tbody>\n",
       "    <tr>\n",
       "      <th>0</th>\n",
       "      <td>0</td>\n",
       "      <td>F</td>\n",
       "      <td>Track</td>\n",
       "      <td>50677.222222</td>\n",
       "      <td>7.171657</td>\n",
       "      <td>9.084642</td>\n",
       "    </tr>\n",
       "    <tr>\n",
       "      <th>1</th>\n",
       "      <td>0</td>\n",
       "      <td>N</td>\n",
       "      <td>Track</td>\n",
       "      <td>310535.678571</td>\n",
       "      <td>63.479892</td>\n",
       "      <td>55.668115</td>\n",
       "    </tr>\n",
       "    <tr>\n",
       "      <th>2</th>\n",
       "      <td>0</td>\n",
       "      <td>R</td>\n",
       "      <td>Track</td>\n",
       "      <td>196621.111111</td>\n",
       "      <td>64.386349</td>\n",
       "      <td>35.247243</td>\n",
       "    </tr>\n",
       "    <tr>\n",
       "      <th>3</th>\n",
       "      <td>0</td>\n",
       "      <td>F</td>\n",
       "      <td>StationImp</td>\n",
       "      <td>809.555556</td>\n",
       "      <td>0.114565</td>\n",
       "      <td>1.040257</td>\n",
       "    </tr>\n",
       "    <tr>\n",
       "      <th>4</th>\n",
       "      <td>0</td>\n",
       "      <td>N</td>\n",
       "      <td>StationImp</td>\n",
       "      <td>42581.507937</td>\n",
       "      <td>8.704538</td>\n",
       "      <td>54.716108</td>\n",
       "    </tr>\n",
       "  </tbody>\n",
       "</table>\n",
       "</div>"
      ],
      "text/plain": [
       "   Unnamed: 0 Line        Type           Loss  % of Line  % of Type\n",
       "0           0    F       Track   50677.222222   7.171657   9.084642\n",
       "1           0    N       Track  310535.678571  63.479892  55.668115\n",
       "2           0    R       Track  196621.111111  64.386349  35.247243\n",
       "3           0    F  StationImp     809.555556   0.114565   1.040257\n",
       "4           0    N  StationImp   42581.507937   8.704538  54.716108"
      ]
     },
     "execution_count": 22,
     "metadata": {},
     "output_type": "execute_result"
    }
   ],
   "source": [
    "df_lineTypeLoss = pd.read_csv(\"Results3.csv\")\n",
    "df_lineTypeLoss.head()"
   ]
  },
  {
   "cell_type": "code",
   "execution_count": 86,
   "metadata": {},
   "outputs": [
    {
     "data": {
      "image/png": "[encoded data removed]",
      "text/plain": [
       "<matplotlib.figure.Figure at 0x7fb897c6da90>"
      ]
     },
     "metadata": {
      "needs_background": "light"
     },
     "output_type": "display_data"
    }
   ],
   "source": [
    "plt.subplots(figsize=(20,5))\n",
    "a = 1\n",
    "colors = ['','red','orange','gold']\n",
    "for i in ['F','N','R']:\n",
    "    df_plot = df_lineTypeLoss[df_lineTypeLoss['Line']==i]\n",
    "    lis =  np.arange(len(df_plot))\n",
    "    ax = plt.subplot(1,3,a)\n",
    "    ax.barh(lis, np.abs(df_plot['% of Line']),edgecolor='black', linewidth=2.0, color = colors[a])\n",
    "    if a == 1:\n",
    "        ax.set_yticks(lis)\n",
    "        ax.set_yticklabels(list(df_plot['Type']), fontsize =20)\n",
    "        plt.ylabel('Category of Maintenance', fontsize =20)\n",
    "    else: \n",
    "        ax.set_yticks([])\n",
    "    ax.invert_yaxis()\n",
    "    plt.title(i, fontsize = 20)\n",
    "    if a == 2:\n",
    "        plt.xlabel('% of Final Loss in Ridership', fontsize =20)\n",
    "        \n",
    "    a = a + 1\n",
    "\n",
    "\n",
    "plt.savefig(\"LineCategoricalLoss.png\")"
   ]
  },
  {
   "cell_type": "code",
   "execution_count": 61,
   "metadata": {},
   "outputs": [
    {
     "data": {
      "image/png": "[encoded data removed]",
      "text/plain": [
       "<matplotlib.figure.Figure at 0x7fb897e8ae80>"
      ]
     },
     "metadata": {
      "needs_background": "light"
     },
     "output_type": "display_data"
    }
   ],
   "source": [
    "plt.subplots(figsize=(4,5))\n",
    "lefts =pd.DataFrame(np.array([0,0,0]))\n",
    "for i in ['Signal', 'Track', 'Electrical', 'StationImp', 'Structural']:\n",
    "    df_plot = df_lineTypeLoss[df_lineTypeLoss['Type']==i]\n",
    "    ind = np.arange(len(df_plot))    # the x locations for the groups\n",
    "    p1 = plt.bar(ind, df_plot['% of Line'], bottom = np.array(lefts), label = i)\n",
    "    lefts = pd.concat([lefts,df_plot['% of Line'].reset_index(drop=True)], axis=1)\n",
    "    lefts = pd.DataFrame(np.sum(lefts, axis=1))\n",
    "    \n",
    "plt.ylabel('Subway Lines')\n",
    "plt.title('Scores by group and gender')\n",
    "plt.yticks(ind, ('F', 'N', 'R'))\n",
    "plt.legend()\n",
    "\n",
    "plt.show()"
   ]
  },
  {
   "cell_type": "code",
   "execution_count": 49,
   "metadata": {},
   "outputs": [
    {
     "data": {
      "text/html": [
       "<div>\n",
       "<style scoped>\n",
       "    .dataframe tbody tr th:only-of-type {\n",
       "        vertical-align: middle;\n",
       "    }\n",
       "\n",
       "    .dataframe tbody tr th {\n",
       "        vertical-align: top;\n",
       "    }\n",
       "\n",
       "    .dataframe thead th {\n",
       "        text-align: right;\n",
       "    }\n",
       "</style>\n",
       "<table border=\"1\" class=\"dataframe\">\n",
       "  <thead>\n",
       "    <tr style=\"text-align: right;\">\n",
       "      <th></th>\n",
       "      <th>0</th>\n",
       "    </tr>\n",
       "  </thead>\n",
       "  <tbody>\n",
       "    <tr>\n",
       "      <th>0</th>\n",
       "      <td>7.171657</td>\n",
       "    </tr>\n",
       "    <tr>\n",
       "      <th>1</th>\n",
       "      <td>63.479892</td>\n",
       "    </tr>\n",
       "    <tr>\n",
       "      <th>2</th>\n",
       "      <td>64.386349</td>\n",
       "    </tr>\n",
       "    <tr>\n",
       "      <th>6</th>\n",
       "      <td>81.793660</td>\n",
       "    </tr>\n",
       "    <tr>\n",
       "      <th>7</th>\n",
       "      <td>10.543028</td>\n",
       "    </tr>\n",
       "    <tr>\n",
       "      <th>8</th>\n",
       "      <td>21.748495</td>\n",
       "    </tr>\n",
       "  </tbody>\n",
       "</table>\n",
       "</div>"
      ],
      "text/plain": [
       "           0\n",
       "0   7.171657\n",
       "1  63.479892\n",
       "2  64.386349\n",
       "6  81.793660\n",
       "7  10.543028\n",
       "8  21.748495"
      ]
     },
     "execution_count": 49,
     "metadata": {},
     "output_type": "execute_result"
    }
   ],
   "source": [
    "lefts"
   ]
  },
  {
   "cell_type": "code",
   "execution_count": 43,
   "metadata": {},
   "outputs": [],
   "source": []
  },
  {
   "cell_type": "code",
   "execution_count": 45,
   "metadata": {},
   "outputs": [
    {
     "data": {
      "text/html": [
       "<div>\n",
       "<style scoped>\n",
       "    .dataframe tbody tr th:only-of-type {\n",
       "        vertical-align: middle;\n",
       "    }\n",
       "\n",
       "    .dataframe tbody tr th {\n",
       "        vertical-align: top;\n",
       "    }\n",
       "\n",
       "    .dataframe thead th {\n",
       "        text-align: right;\n",
       "    }\n",
       "</style>\n",
       "<table border=\"1\" class=\"dataframe\">\n",
       "  <thead>\n",
       "    <tr style=\"text-align: right;\">\n",
       "      <th></th>\n",
       "      <th>% of Line</th>\n",
       "      <th>% of Line</th>\n",
       "    </tr>\n",
       "  </thead>\n",
       "  <tbody>\n",
       "    <tr>\n",
       "      <th>9</th>\n",
       "      <td>4.173638</td>\n",
       "      <td>4.173638</td>\n",
       "    </tr>\n",
       "    <tr>\n",
       "      <th>10</th>\n",
       "      <td>8.464898</td>\n",
       "      <td>8.464898</td>\n",
       "    </tr>\n",
       "    <tr>\n",
       "      <th>11</th>\n",
       "      <td>0.557853</td>\n",
       "      <td>0.557853</td>\n",
       "    </tr>\n",
       "  </tbody>\n",
       "</table>\n",
       "</div>"
      ],
      "text/plain": [
       "    % of Line  % of Line\n",
       "9    4.173638   4.173638\n",
       "10   8.464898   8.464898\n",
       "11   0.557853   0.557853"
      ]
     },
     "execution_count": 45,
     "metadata": {},
     "output_type": "execute_result"
    }
   ],
   "source": []
  },
  {
   "cell_type": "code",
   "execution_count": 47,
   "metadata": {},
   "outputs": [
    {
     "data": {
      "text/html": [
       "<div>\n",
       "<style scoped>\n",
       "    .dataframe tbody tr th:only-of-type {\n",
       "        vertical-align: middle;\n",
       "    }\n",
       "\n",
       "    .dataframe tbody tr th {\n",
       "        vertical-align: top;\n",
       "    }\n",
       "\n",
       "    .dataframe thead th {\n",
       "        text-align: right;\n",
       "    }\n",
       "</style>\n",
       "<table border=\"1\" class=\"dataframe\">\n",
       "  <thead>\n",
       "    <tr style=\"text-align: right;\">\n",
       "      <th></th>\n",
       "      <th>0</th>\n",
       "    </tr>\n",
       "  </thead>\n",
       "  <tbody>\n",
       "    <tr>\n",
       "      <th>9</th>\n",
       "      <td>8.347277</td>\n",
       "    </tr>\n",
       "    <tr>\n",
       "      <th>10</th>\n",
       "      <td>16.929797</td>\n",
       "    </tr>\n",
       "    <tr>\n",
       "      <th>11</th>\n",
       "      <td>1.115706</td>\n",
       "    </tr>\n",
       "  </tbody>\n",
       "</table>\n",
       "</div>"
      ],
      "text/plain": [
       "            0\n",
       "9    8.347277\n",
       "10  16.929797\n",
       "11   1.115706"
      ]
     },
     "execution_count": 47,
     "metadata": {},
     "output_type": "execute_result"
    }
   ],
   "source": []
  },
  {
   "cell_type": "markdown",
   "metadata": {},
   "source": [
    "### Plot Month on Month Loss"
   ]
  },
  {
   "cell_type": "code",
   "execution_count": null,
   "metadata": {},
   "outputs": [],
   "source": [
    "df_lossMonth = pd.read_csv('20181214_LossMonth.csv')\n",
    "df_lossMonth"
   ]
  },
  {
   "cell_type": "code",
   "execution_count": null,
   "metadata": {},
   "outputs": [],
   "source": [
    "fig, ax = plt.subplots(figsize=(15,5))\n",
    "lis =  np.arange(len(df_lossMonth))\n",
    "ax.bar(lis, np.abs(df_lossMonth['Loss']), color= 'royalblue',edgecolor='black', linewidth=2.0)\n",
    "ax.set_xticks(lis)\n",
    "ax.set_xticklabels(('2017-11', '2017-12', '2018-1', '2018-2', '2018-3', '2018-4', '2018-5', '2018-6', '2018-7', '2018-8', '2018-9'))\n",
    "plt.axhline(abs(df_lossMonth['Loss'].mean()), color='r', label= 'Mean Loss', linewidth=3.0)\n",
    "plt.axhline(abs(df_lossMonth['Loss'].quantile(0.25)), color='orange', label= '75 Percentile', linestyle ='--', linewidth=3.0)\n",
    "plt.xlabel('Month-Year')\n",
    "plt.ylabel('Loss in Ridership')\n",
    "plt.title('Loss in Ridership on F N and R Line for past 11 Months')\n",
    "plt.legend()"
   ]
  },
  {
   "cell_type": "code",
   "execution_count": null,
   "metadata": {},
   "outputs": [],
   "source": [
    "df_lossMonth['%Loss'] =df_lossMonth['Loss']*100/df_lossMonth['Entries']"
   ]
  },
  {
   "cell_type": "code",
   "execution_count": null,
   "metadata": {},
   "outputs": [],
   "source": [
    "df_lossMonth"
   ]
  },
  {
   "cell_type": "code",
   "execution_count": null,
   "metadata": {},
   "outputs": [],
   "source": [
    "fig, ax = plt.subplots(figsize=(15,5))\n",
    "lis =  np.arange(len(df_lossMonth))\n",
    "ax.plot(lis, np.abs(df_lossMonth['%Loss']), '-', color= 'royalblue', linewidth=4.0, marker='o', ms=10.0, mfc='black')\n",
    "ax.set_xticks(lis)\n",
    "ax.set_xticklabels(('2017-11', '2017-12', '2018-1', '2018-2', '2018-3', '2018-4', '2018-5', '2018-6', '2018-7', '2018-8', '2018-9'))\n",
    "plt.axhline(abs(df_lossMonth['%Loss'].mean()), color='r', label= 'Mean Loss', linewidth=3.0)\n",
    "plt.axhline(abs(df_lossMonth['%Loss'].quantile(0.25)), color='orange', label= '75 Percentile', linestyle ='--', linewidth=3.0)\n",
    "plt.xlabel('Month-Year')\n",
    "plt.ylabel('% Loss in Ridership')\n",
    "plt.title('% Loss in Ridership on F N and R Line for past 11 Months')\n",
    "plt.legend()\n"
   ]
  },
  {
   "cell_type": "markdown",
   "metadata": {},
   "source": [
    "### Plot Line Loss"
   ]
  },
  {
   "cell_type": "code",
   "execution_count": null,
   "metadata": {},
   "outputs": [],
   "source": [
    "df_lineLoss = pd.read_csv('20181214_monthLine.csv')\n",
    "df_lineLoss"
   ]
  },
  {
   "cell_type": "code",
   "execution_count": null,
   "metadata": {},
   "outputs": [],
   "source": []
  },
  {
   "cell_type": "code",
   "execution_count": null,
   "metadata": {},
   "outputs": [],
   "source": [
    "fig, ax = plt.subplots(figsize=(15,5))\n",
    "lis =  np.arange(len(df_lossMonth))\n",
    "ax.bar(lis, np.abs(df_lossMonth['Loss']), color= 'royalblue',edgecolor='black', linewidth=2.0)\n",
    "ax.set_xticks(lis)\n",
    "ax.set_xticklabels(('2017-11', '2017-12', '2018-1', '2018-2', '2018-3', '2018-4', '2018-5', '2018-6', '2018-7', '2018-8', '2018-9'))\n",
    "plt.axhline(abs(df_lossMonth['Loss'].mean()), color='r', label= 'Mean Loss', linewidth=3.0)\n",
    "plt.axhline(abs(df_lossMonth['Loss'].quantile(0.25)), color='orange', label= '75 Percentile', linestyle ='--', linewidth=3.0)\n",
    "plt.xlabel('Month-Year')\n",
    "plt.ylabel('Loss in Ridership')\n",
    "plt.title('Loss in Ridership on F N and R Line for past 11 Months')\n",
    "plt.legend()"
   ]
  }
 ],
 "metadata": {
  "kernelspec": {
   "display_name": "ADS",
   "language": "python",
   "name": "ads"
  },
  "language_info": {
   "codemirror_mode": {
    "name": "ipython",
    "version": 3
   },
   "file_extension": ".py",
   "mimetype": "text/x-python",
   "name": "python",
   "nbconvert_exporter": "python",
   "pygments_lexer": "ipython3",
   "version": "3.5.0"
  }
 },
 "nbformat": 4,
 "nbformat_minor": 2
}
